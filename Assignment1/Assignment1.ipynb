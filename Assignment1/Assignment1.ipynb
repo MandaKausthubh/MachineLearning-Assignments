{
  "cells": [
    {
      "cell_type": "markdown",
      "metadata": {},
      "source": [
        "---\n",
        "title: Assignment 1\n",
        "format: html\n",
        "---\n",
        "\n",
        "# Importing the libraries"
      ]
    },
    {
      "cell_type": "code",
      "metadata": {},
      "source": [
        "import pandas as pd\n",
        "import numpy as np\n",
        "from pandas.core.common import random_state\n",
        "import seaborn as sns\n",
        "import matplotlib.pyplot as plt\n",
        "from sklearn.metrics import mean_squared_error\n",
        "from sklearn.linear_model import LinearRegression, Ridge, Lasso\n",
        "from sklearn.preprocessing import StandardScaler, PolynomialFeatures\n",
        "from sklearn.model_selection import cross_val_score, train_test_split"
      ],
      "execution_count": null,
      "outputs": []
    },
    {
      "cell_type": "markdown",
      "metadata": {},
      "source": [
        "# Importing and Preprocessing the data"
      ]
    },
    {
      "cell_type": "code",
      "metadata": {},
      "source": [
        "df = pd.read_csv('Data/train.csv')\n",
        "df.drop_duplicates(inplace=True)\n",
        "\n",
        "print(f\"The shape of the raw data is: {df.shape}\")\n",
        "print(\"-------------------------------------------\")\n",
        "\n",
        "cols_with_nulls = df.isna().sum() * 100/ df.shape[0]\n",
        "\n",
        "cols_with_nulls = cols_with_nulls[cols_with_nulls > 0].keys()\n",
        "print(\"Columns of the raw data with Null values: \",cols_with_nulls)\n",
        "\n",
        "for col in cols_with_nulls:\n",
        "  print('Indexs in Col', col, ' with null vals in', df.index[df[col].isna()])\n",
        "  df.drop(labels=df.index[df[col].isna()], inplace=True)\n",
        "\n",
        "print(\"The shape after removing the Null vals: \", df.shape)\n",
        "\n",
        "print(\"-------------------------------------------\")"
      ],
      "execution_count": null,
      "outputs": []
    },
    {
      "cell_type": "code",
      "metadata": {},
      "source": [
        "class OutlierFiltering:\n",
        "  \n",
        "  def __init__(self, rows, a) -> None:\n",
        "    self.q1 = rows.quantile(0.25)\n",
        "    self.q2 = rows.quantile(0.75)\n",
        "    self.gap = self.q2 - self.q1\n",
        "    self.alpha = a\n",
        "\n",
        "  def SetRatio(self, alpha) -> None:\n",
        "    self.alpha = alpha\n",
        "\n",
        "  def FilterTheOutliers(self, val) -> bool:\n",
        "    return not (val <= self.q2 + self.alpha * self.gap and val >= self.q1 - self.alpha * self.gap)"
      ],
      "execution_count": null,
      "outputs": []
    },
    {
      "cell_type": "code",
      "metadata": {},
      "source": [
        "remover1 = OutlierFiltering(df['Feature1'], 1.5)\n",
        "remover3 = OutlierFiltering(df['Feature3'], 1.5)\n",
        "remover4 = OutlierFiltering(df['Feature4'], 1.5)\n",
        "\n",
        "# df.drop(label=df.index[df['Feature1'].map(remover1.FilterTheOutliers)], inplace=True)\n",
        "df.drop(df.index[df['Feature1'].map(remover1.FilterTheOutliers)], inplace= True)\n",
        "df.drop(df.index[df['Feature3'].map(remover3.FilterTheOutliers)], inplace= True)\n",
        "df.drop(df.index[df['Feature4'].map(remover4.FilterTheOutliers)], inplace= True)\n",
        "\n",
        "df.shape\n",
        "print(df.keys())"
      ],
      "execution_count": null,
      "outputs": []
    },
    {
      "cell_type": "code",
      "metadata": {},
      "source": [
        "# Standardizing the data\n",
        "\n",
        "scaler = StandardScaler()\n",
        "X_data_scaled = scaler.fit_transform(df[['Feature1', 'Feature2', 'Feature3', 'Feature4']])\n",
        "Y_data_scaled = df['Label']"
      ],
      "execution_count": null,
      "outputs": []
    },
    {
      "cell_type": "code",
      "metadata": {},
      "source": [
        "list_of_test_mse_linear = []\n",
        "list_of_train_mse_linear = []\n",
        "list_of_test_mse_lasso = []\n",
        "list_of_train_mse_lasso = []\n",
        "list_of_test_mse_ridge = []\n",
        "list_of_train_mse_ridge = []\n",
        "\n",
        "for i in range(1,10):\n",
        "  X_train, X_test, Y_train, Y_test = train_test_split(X_data_scaled, Y_data_scaled, random_state=27, test_size=0.2)\n",
        "  X_poly = PolynomialFeatures(degree=i)\n",
        "  X_poly_train = X_poly.fit_transform(X_train)\n",
        "  X_poly_test = X_poly.transform(X_test)\n",
        "  \n",
        "  poly_model = LinearRegression()\n",
        "  poly_lasso = Lasso(alpha=10)\n",
        "  poly_ridge = Ridge(alpha=100)\n",
        "  \n",
        "  poly_model.fit(X_poly_train, Y_train)\n",
        "  poly_lasso.fit(X_poly_train, Y_train)\n",
        "  poly_ridge.fit(X_poly_train, Y_train)\n",
        "\n",
        "  train_pred_linear = poly_model.predict(X_poly_train)\n",
        "  train_pred_lasso = poly_lasso.predict(X_poly_train)\n",
        "  train_pred_ridge = poly_ridge.predict(X_poly_train)\n",
        "  test_pred_linear = poly_model.predict(X_poly_test)\n",
        "  test_pred_lasso = poly_lasso.predict(X_poly_test)\n",
        "  test_pred_ridge = poly_ridge.predict(X_poly_test)\n",
        "\n",
        "  mse_train_pred_linear = mean_squared_error(Y_train, train_pred_linear)\n",
        "  mse_train_pred_lasso = mean_squared_error(Y_train, train_pred_lasso )\n",
        "  mse_train_pred_ridge = mean_squared_error(Y_train, train_pred_ridge)\n",
        "  mse_test_pred_linear = mean_squared_error(Y_test, test_pred_linear)\n",
        "  mse_test_pred_lasso = mean_squared_error(Y_test, test_pred_lasso )\n",
        "  mse_test_pred_ridge = mean_squared_error(Y_test, test_pred_ridge)\n",
        "\n",
        "  list_of_train_mse_linear.append(min(mse_train_pred_linear,100000))\n",
        "  list_of_train_mse_lasso.append(min(mse_train_pred_lasso,100000))\n",
        "  list_of_train_mse_ridge.append(min(mse_train_pred_ridge,100000))\n",
        "  list_of_test_mse_linear.append(min(mse_test_pred_linear,100000))\n",
        "  list_of_test_mse_lasso.append(min(mse_test_pred_lasso, 100000))\n",
        "  list_of_test_mse_ridge.append(min(mse_test_pred_ridge, 100000))\n",
        "\n",
        "plt.plot(list_of_train_mse_linear)\n",
        "plt.plot(list_of_train_mse_lasso)\n",
        "plt.plot(list_of_train_mse_ridge)\n"
      ],
      "execution_count": null,
      "outputs": []
    },
    {
      "cell_type": "code",
      "metadata": {},
      "source": [
        "plt.plot(list_of_test_mse_linear, color='r')\n",
        "plt.plot(list_of_test_mse_lasso, color = 'g')\n",
        "plt.plot(list_of_test_mse_ridge, color = 'b')"
      ],
      "execution_count": null,
      "outputs": []
    },
    {
      "cell_type": "code",
      "metadata": {},
      "source": [
        "poly_model = LinearRegression()\n",
        "poly_X = PolynomialFeatures(degree=2)\n",
        "poly_X_data = poly_X.fit_transform(X_data_scaled)\n",
        "poly_model.fit(poly_X_data, Y_data_scaled)"
      ],
      "execution_count": null,
      "outputs": []
    },
    {
      "cell_type": "code",
      "metadata": {},
      "source": [
        "df = pd.read_csv('Data/test.csv')\n",
        "X_df = (df[['Feature1', 'Feature2', 'Feature3', 'Feature4']])\n",
        "scaled_dataa = scaler.transform(X_df)\n",
        "X_df = poly_X.transform(scaled_dataa)\n",
        "\n",
        "\n",
        "submission_df = pd.DataFrame({'id':range(60), 'Label':range(60)})\n",
        "submission_df['Label'] = poly_model.predict(X_df)\n",
        "\n",
        "submission_df.to_csv('Data/submission.csv', index=False)"
      ],
      "execution_count": null,
      "outputs": []
    }
  ],
  "metadata": {
    "kernelspec": {
      "name": "python3",
      "language": "python",
      "display_name": "Python 3 (ipykernel)",
      "path": "/Users/mandakausthubh/.pyenv/versions/3.12.5/share/jupyter/kernels/python3"
    }
  },
  "nbformat": 4,
  "nbformat_minor": 4
}