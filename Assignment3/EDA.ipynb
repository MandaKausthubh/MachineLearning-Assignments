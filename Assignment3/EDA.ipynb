{
  "cells": [
    {
      "cell_type": "markdown",
      "metadata": {},
      "source": [
        "---\n",
        "title: \"Credit Score Ratings\"\n",
        "format:\n",
        "  html:\n",
        "    code-fold: false\n",
        "jupyter: python3\n",
        "---\n",
        "\n",
        "\n",
        "# Importing Python Packages"
      ]
    },
    {
      "cell_type": "code",
      "metadata": {},
      "source": [
        "from math import floor\n",
        "import pandas as pd\n",
        "import numpy as np"
      ],
      "execution_count": null,
      "outputs": []
    },
    {
      "cell_type": "markdown",
      "metadata": {},
      "source": [
        "# Preprocessing the data"
      ]
    },
    {
      "cell_type": "code",
      "metadata": {},
      "source": [
        "def PreProcessingData( df:pd.DataFrame ):\n",
        "    df.drop(inplace=True, columns=['ID', 'Customer_ID', 'Number', 'Name', 'Loan_Type'])\n",
        "    cols_with_NaNs = df.isna().sum() * 100 / df.shape[0]\n",
        "    cols_with_NaNs = cols_with_NaNs[cols_with_NaNs >= 5].keys()\n",
        "    df.drop(columns=cols_with_NaNs, inplace=True)\n",
        "\n",
        "    df[\"Total_Current_Loans\"] = df[\"Total_Current_Loans\"].apply(lambda x: int(x[:-1]) if x[-1] == '_' else int(x))\n",
        "    df[\"Income_Annual\"] = df[\"Income_Annual\"].apply(lambda x: float(x[:-1]) if x[-1] == '_' else float(x))\n",
        "    df[\"Age\"] = df[\"Age\"].apply(lambda x: float(x[:-1]) if x[-1] == '_' else float(x))\n",
        "    df[\"Payment_of_Min_Amount\"] = df[\"Payment_of_Min_Amount\"].apply(lambda x : True if (x==\"Yes\" or x==\"NM\") else False)\n",
        "\n",
        "\n",
        "    # Checking removing rows with NaNs and '-100' number of loans\n",
        "    for col in df.columns:\n",
        "        df.drop(labels=df.index[df[col].isna()], inplace=True)\n",
        "    df.drop(labels=df.index[df[\"Age\"] < 0], inplace=True)\n",
        "    df.drop(labels=df.index[df[\"Total_Bank_Accounts\"] < 0], inplace=True)\n",
        "    df.drop(labels=df.index[df[\"Total_Current_Loans\"] < 0], inplace=True)"
      ],
      "execution_count": null,
      "outputs": []
    },
    {
      "cell_type": "code",
      "metadata": {},
      "source": [
        "df = pd.read_csv(\"data/train.csv\", low_memory=False)\n",
        "PreProcessingData(df)\n",
        "df.describe()"
      ],
      "execution_count": null,
      "outputs": []
    }
  ],
  "metadata": {
    "kernelspec": {
      "name": "python3",
      "language": "python",
      "display_name": "Python 3 (ipykernel)",
      "path": "/Users/mandakausthubh/.pyenv/versions/3.12.5/share/jupyter/kernels/python3"
    }
  },
  "nbformat": 4,
  "nbformat_minor": 4
}