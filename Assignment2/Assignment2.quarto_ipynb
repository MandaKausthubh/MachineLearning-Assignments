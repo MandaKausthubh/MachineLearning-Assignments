{
  "cells": [
    {
      "cell_type": "markdown",
      "metadata": {},
      "source": [
        "---\n",
        "title: Assignment_2_Submission\n",
        "format: html\n",
        "---\n",
        "\n",
        "\n",
        "# Preprocessing the Data\n",
        "\n",
        "## Importing Libraries"
      ],
      "id": "7994146f"
    },
    {
      "cell_type": "code",
      "metadata": {},
      "source": [
        "from re import X\n",
        "from numpy.lib import test\n",
        "import pandas as pd\n",
        "import numpy as np\n",
        "import matplotlib.pyplot as plt"
      ],
      "id": "060ea4af",
      "execution_count": null,
      "outputs": []
    },
    {
      "cell_type": "markdown",
      "metadata": {},
      "source": [
        "## Importing the data"
      ],
      "id": "04b7b8c3"
    },
    {
      "cell_type": "code",
      "metadata": {},
      "source": [
        "data_df = pd.read_csv(\"Data/train.csv\")\n",
        "data_df"
      ],
      "id": "12f868b2",
      "execution_count": null,
      "outputs": []
    },
    {
      "cell_type": "markdown",
      "metadata": {},
      "source": [
        "## Cleaning the Columns with more than 10% null values"
      ],
      "id": "14854194"
    },
    {
      "cell_type": "code",
      "metadata": {},
      "source": [
        "df_percentage = data_df.isna().sum() * 100 / data_df.shape[0]\n",
        "cols_with_null = df_percentage[df_percentage > 5]\n",
        "cols_with_null.keys()"
      ],
      "id": "b7d08579",
      "execution_count": null,
      "outputs": []
    },
    {
      "cell_type": "code",
      "metadata": {},
      "source": [
        "data_df.drop(columns=cols_with_null.keys(), inplace=True)\n",
        "data_df.drop(columns=['Name', 'Ticket'], inplace=True)\n",
        "data_df.loc[data_df['Sex'] == 'male', 'Sex'] = 0\n",
        "data_df.loc[data_df['Sex'] == 'female', 'Sex'] = 1\n",
        "\n",
        "\n",
        "\n",
        "# | Removing the rows with nan \n",
        "data_df.drop(labels=data_df.index[data_df['Embarked'].isna()], inplace=True)"
      ],
      "id": "5b4b9fab",
      "execution_count": null,
      "outputs": []
    },
    {
      "cell_type": "markdown",
      "metadata": {},
      "source": [
        "# Training the data\n"
      ],
      "id": "2b6251f3"
    },
    {
      "cell_type": "code",
      "metadata": {},
      "source": [
        "data_df.loc[data_df['Embarked']=='S', 'Embarked'] = 0\n",
        "data_df.loc[data_df['Embarked']=='Q', 'Embarked'] = 1\n",
        "data_df.loc[data_df['Embarked']=='C', 'Embarked'] = 2\n",
        "\n",
        "data_df['Sex'].describe()"
      ],
      "id": "be757cbc",
      "execution_count": null,
      "outputs": []
    },
    {
      "cell_type": "code",
      "metadata": {},
      "source": [
        "from pandas.core.generic import dt\n",
        "from sklearn.tree import DecisionTreeClassifier\n",
        "from sklearn.model_selection import train_test_split\n",
        "from sklearn.metrics import accuracy_score \n",
        "import xgboost as xgb\n",
        "from xgboost import XGBClassifier\n",
        "\n",
        "data_x = data_df.drop(columns='Survived', inplace=False)\n",
        "data_y = data_df['Survived']\n",
        "\n",
        "listofrandomstates = 1\n",
        "max_Accuracy = 0\n",
        "for i in range(1,51):\n",
        "    X_test, X_train, y_test, y_train = train_test_split(data_x, data_y, test_size=0.3, random_state=45)\n",
        "    dt_model = XGBClassifier(random_state=i, learning_rate=0.1, n_estimators=10)\n",
        "    dt_model.fit(X_train, y_train )\n",
        "    # y_pred = dt_model.predict(X_test)\n",
        "\n",
        "    # accuracy = accuracy_score(y_test, y_pred)\n",
        "    # listofrandomstates, max_Accuracy = (i, accuracy) if max_Accuracy < accuracy else (listofrandomstates, max_Accuracy)\n",
        "    # print(accuracy)"
      ],
      "id": "29dc745e",
      "execution_count": null,
      "outputs": []
    },
    {
      "cell_type": "code",
      "metadata": {},
      "source": [
        "dt_model = DecisionTreeClassifier(random_state=listofrandomstates)\n",
        "dt_model.fit(data_x,data_y)\n",
        "# y_pred = dt_model.predict()\n",
        "\n",
        "\n",
        "test_data = pd.read_csv('Data/test.csv')\n",
        "test_data.drop(columns=['Name', 'Ticket'], inplace=True)\n",
        "\n",
        "test_data.loc[test_data['Sex'] == 'male', 'Sex'] = 0\n",
        "test_data.loc[test_data['Sex'] == 'female', 'Sex'] = 1\n",
        "\n",
        "\n",
        "\n",
        "# | Removing the rows with nan \n",
        "test_data.drop(labels=data_df.index[data_df['Embarked'].isna()], inplace=True)\n",
        "test_data.drop(columns=cols_with_null.keys(), inplace=True)\n",
        "\n",
        "test_data.loc[test_data['Embarked']=='S', 'Embarked'] = 0\n",
        "test_data.loc[test_data['Embarked']=='Q', 'Embarked'] = 1\n",
        "test_data.loc[test_data['Embarked']=='C', 'Embarked'] = 2\n",
        "\n",
        "test_data"
      ],
      "id": "d9b61797",
      "execution_count": null,
      "outputs": []
    },
    {
      "cell_type": "code",
      "metadata": {},
      "source": [
        "result_df = pd.DataFrame()\n",
        "result_df['PassengerID'] = test_data['PassengerId']\n",
        "result = dt_model.predict(test_data)\n",
        "result_df['Survived'] = result\n",
        "result_df.to_csv('Data/final_submission.csv', index=False)"
      ],
      "id": "586207a1",
      "execution_count": null,
      "outputs": []
    }
  ],
  "metadata": {
    "kernelspec": {
      "name": "python3",
      "language": "python",
      "display_name": "Python 3 (ipykernel)",
      "path": "/Users/mandakausthubh/.pyenv/versions/3.12.5/share/jupyter/kernels/python3"
    }
  },
  "nbformat": 4,
  "nbformat_minor": 5
}